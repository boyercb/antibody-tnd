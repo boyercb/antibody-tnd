{
 "cells": [
  {
   "cell_type": "code",
   "execution_count": null,
   "id": "317d57f8",
   "metadata": {},
   "outputs": [],
   "source": [
    "# Test-Negative Design Simulation with Antibody Dynamics\n",
    "\n",
    "This notebook demonstrates a test-negative design simulation that incorporates antibody dynamics. The simulation models:\n",
    "\n",
    "- Two pathogens: test-negative pathogen (unaffected by vaccination) and test-positive pathogen (affected by vaccination)\n",
    "- Antibody levels that provide protection against infection\n",
    "- Antibody waning over time\n",
    "- Vaccination that boosts antibodies for the test-positive pathogen only\n",
    "- Infection that boosts antibodies for the respective pathogen\n",
    "- Network-based disease transmission\n",
    "- Multiple analytical approaches: Cox models, difference-in-differences, and test-negative design\n",
    "\n",
    "## Key Features\n",
    "- **Antibody dynamics**: Levels start at 0, increase with vaccination/infection, and wane over time\n",
    "- **Protection mechanism**: Higher antibody levels provide better protection (0 = no protection, 1 = complete protection)\n",
    "- **Vaccination strategy**: Only affects test-positive pathogen antibodies and infection risk\n",
    "- **Test-negative design**: Compares outcomes among tested individuals to estimate vaccine effectiveness\n",
    "\n",
    "## Import Libraries and Load Simulation Code"
   ]
  }
 ],
 "metadata": {
  "language_info": {
   "name": "python"
  }
 },
 "nbformat": 4,
 "nbformat_minor": 5
}
